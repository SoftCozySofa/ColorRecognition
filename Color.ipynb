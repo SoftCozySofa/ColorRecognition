{
 "cells": [
  {
   "cell_type": "code",
   "execution_count": 1,
   "metadata": {
    "collapsed": true
   },
   "outputs": [],
   "source": [
    "from skimage.io import imread, imsave, imshow\n",
    "from skimage import img_as_ubyte\n",
    "import numpy as np\n",
    "import matplotlib.pyplot as plt\n",
    "import requests\n",
    "import cv2 #pip install opencv-python\n",
    "%matplotlib inline"
   ]
  },
  {
   "cell_type": "code",
   "execution_count": 2,
   "metadata": {
    "collapsed": true
   },
   "outputs": [],
   "source": [
    "def ColorRecognition(frame, h_min, h_max):\n",
    "    hsv_cam = cv2.cvtColor(frame, cv2.COLOR_BGR2HSV)\n",
    "    filt_cam = cv2.inRange(hsv_cam, h_min, h_max)\n",
    "    st1 = cv2.getStructuringElement(cv2.MORPH_RECT, (21, 21), (10, 10))\n",
    "    st2 = cv2.getStructuringElement(cv2.MORPH_RECT, (11, 11), (5, 5))\n",
    "    filt_cam = cv2.morphologyEx(filt_cam, cv2.MORPH_CLOSE, st1)\n",
    "    filt_cam = cv2.morphologyEx(filt_cam, cv2.MORPH_OPEN, st2)\n",
    "    filt_cam = cv2.GaussianBlur(filt_cam, (5, 5), 2)\n",
    "    detect = filt_cam\n",
    "    im2, contours, hierarchy = cv2.findContours(detect, cv2.RETR_TREE, cv2.CHAIN_APPROX_SIMPLE)\n",
    "    cv2.drawContours(frame, contours, -1, (0, 0, 255), 1)\n",
    "    frame = frame.astype('uint8')\n",
    "    frame = img_as_ubyte(frame)\n",
    "    #objectY = np.round((row1 - 0) / 2) #Ищем центр кадра и центр объекта\n",
    "    #objectX = np.round((col1 - 0) / 2)\n",
    "    frameY = np.round(frame.shape[0] / 2)\n",
    "    frameX = np.round(frame.shape[1] / 2)\n",
    "    #deltaX = frameX - objectX #Сдвиг по горизонтали(если <0 - вправо, >0 - влево)\n",
    "    #deltaY = frameY - objectY #Сдвиг по вертикали(если <0 - вниз, >0 - вверх)\n",
    "    return frame #, deltaX, deltaY"
   ]
  },
  {
   "cell_type": "code",
   "execution_count": 8,
   "metadata": {},
   "outputs": [],
   "source": [
    "cap = cv2.VideoCapture(0)\n",
    "h_min = (100, 100, 100)\n",
    "h_max = (110, 255, 255)\n",
    "\n",
    "while(cap.isOpened()): \n",
    "    ret, frame = cap.read()\n",
    "    if ret:\n",
    "        ColorRecognition(frame, h_min, h_max)\n",
    "        cv2.imshow('Video', frame)\n",
    "    if cv2.waitKey(1) & 0xFF == ord('q'):\n",
    "        break\n",
    "\n",
    "cap.release()\n",
    "cv2.destroyAllWindows()"
   ]
  },
  {
   "cell_type": "code",
   "execution_count": null,
   "metadata": {
    "collapsed": true
   },
   "outputs": [],
   "source": [
    "im2, contours, hierarchy = cv2.findContours(detect, cv2.RETR_TREE, cv2.CHAIN_APPROX_SIMPLE)\n",
    "cv2.drawContours(frame, contours, -1, (0, 0, 255), 1)"
   ]
  },
  {
   "cell_type": "code",
   "execution_count": null,
   "metadata": {
    "collapsed": true
   },
   "outputs": [],
   "source": [
    "    row = range(0, detect.shape[0]) #Строки\n",
    "    col = range(0, detect.shape[1]) #Столбцы\n",
    "    flag = 0;\n",
    "    for i in row:\n",
    "        for j in col:\n",
    "            if detect[i, j] != flag: #Если цвет пикселя не 0\n",
    "                row1 = i #Нижняя граница\n",
    "    for j in col:\n",
    "        for i in row:\n",
    "            if detect[i, j] != flag:\n",
    "                col1 = j #Правая граница\n",
    "    for i in reversed(row):\n",
    "        for j in reversed(col):\n",
    "            if detect[i, j] != flag:\n",
    "                row2 = i #Верхняя граница\n",
    "    for j in reversed(col):\n",
    "        for i in reversed(row):\n",
    "            if detect[i, j] != flag:\n",
    "                col2 = j #Левая граница\n",
    "    #cv2.rectangle(frame, (col2, row2), (col1, row1), (0, 0, 255))"
   ]
  }
 ],
 "metadata": {
  "kernelspec": {
   "display_name": "Python 3",
   "language": "python",
   "name": "python3"
  },
  "language_info": {
   "codemirror_mode": {
    "name": "ipython",
    "version": 3
   },
   "file_extension": ".py",
   "mimetype": "text/x-python",
   "name": "python",
   "nbconvert_exporter": "python",
   "pygments_lexer": "ipython3",
   "version": "3.6.3"
  }
 },
 "nbformat": 4,
 "nbformat_minor": 2
}
